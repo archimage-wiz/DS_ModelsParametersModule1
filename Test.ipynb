{
 "cells": [
  {
   "cell_type": "code",
   "execution_count": 29,
   "metadata": {},
   "outputs": [
    {
     "name": "stdout",
     "output_type": "stream",
     "text": [
      "Iteration 0, Loss: 35039271.56971378\n",
      "Iteration 100, Loss: inf\n",
      "Iteration 200, Loss: inf\n",
      "Iteration 300, Loss: nan\n",
      "Iteration 400, Loss: nan\n",
      "Iteration 500, Loss: nan\n",
      "Iteration 600, Loss: nan\n",
      "Iteration 700, Loss: nan\n",
      "Iteration 800, Loss: nan\n",
      "Iteration 900, Loss: nan\n",
      "Final parameters: w = [[nan nan nan nan nan nan nan nan nan nan nan nan nan nan nan nan nan nan\n",
      "  nan nan nan nan nan nan nan nan nan nan nan nan nan nan nan nan nan nan\n",
      "  nan nan nan nan nan nan nan nan nan nan nan nan nan nan nan nan nan nan\n",
      "  nan nan nan nan nan nan nan nan nan nan nan nan nan nan nan nan nan nan\n",
      "  nan nan nan nan nan nan nan nan nan nan nan nan nan nan nan nan nan nan\n",
      "  nan nan nan nan nan nan nan nan nan nan]], b = [[nan nan nan nan nan nan nan nan nan nan nan nan nan nan nan nan nan nan\n",
      "  nan nan nan nan nan nan nan nan nan nan nan nan nan nan nan nan nan nan\n",
      "  nan nan nan nan nan nan nan nan nan nan nan nan nan nan nan nan nan nan\n",
      "  nan nan nan nan nan nan nan nan nan nan nan nan nan nan nan nan nan nan\n",
      "  nan nan nan nan nan nan nan nan nan nan nan nan nan nan nan nan nan nan\n",
      "  nan nan nan nan nan nan nan nan nan nan]]\n"
     ]
    },
    {
     "name": "stderr",
     "output_type": "stream",
     "text": [
      "C:\\Users\\archi\\AppData\\Local\\Temp\\ipykernel_17332\\2815234049.py:41: RuntimeWarning: overflow encountered in square\n",
      "  loss = np.mean((y - predict(X, w, b)) ** 2)\n",
      "C:\\Users\\archi\\AppData\\Local\\Temp\\ipykernel_17332\\2815234049.py:37: RuntimeWarning: invalid value encountered in add\n",
      "  w = w + learning_rate * gradient_w\n"
     ]
    }
   ],
   "source": [
    "import numpy as np\n",
    "\n",
    "# Создаем данные\n",
    "# np.random.seed(42)\n",
    "X = 2 * np.random.rand(100, 1)\n",
    "y = 4 + 3 * X + np.random.randn(100, 1)\n",
    "\n",
    "X = np.random.uniform(low=0, high=100, size=100).reshape(100,1)\n",
    "y = 100-X + 1 + np.random.normal(scale=5, size=100)\n",
    "\n",
    "# Инициализация параметров\n",
    "w = np.random.randn(1)\n",
    "b = np.random.randn(1)\n",
    "\n",
    "# Гиперпараметры\n",
    "learning_rate = 0.01\n",
    "n_iterations = 1000\n",
    "\n",
    "# Функция для вычисления предсказаний\n",
    "def predict(X, w, b):\n",
    "    return X.dot(w) + b\n",
    "\n",
    "# Основной цикл SGD\n",
    "for iteration in range(n_iterations):\n",
    "    idx = np.random.randint(len(X))\n",
    "    X_i = X[idx:idx+1]\n",
    "    y_i = y[idx:idx+1]\n",
    "    \n",
    "    # Вычисляем предсказания\n",
    "    y_pred = predict(X_i, w, b)\n",
    "    \n",
    "    # Вычисляем градиенты\n",
    "    gradient_w = 2 * X_i.dot(y_i - y_pred)\n",
    "    gradient_b = 2 * (y_i - y_pred)\n",
    "    \n",
    "    # Обновляем параметры\n",
    "    w = w + learning_rate * gradient_w\n",
    "    b = b + learning_rate * gradient_b\n",
    "    \n",
    "    if iteration % 100 == 0:\n",
    "        loss = np.mean((y - predict(X, w, b)) ** 2)\n",
    "        print(f\"Iteration {iteration}, Loss: {loss}\")\n",
    "\n",
    "print(f\"Final parameters: w = {w}, b = {b}\")"
   ]
  }
 ],
 "metadata": {
  "kernelspec": {
   "display_name": "env",
   "language": "python",
   "name": "python3"
  },
  "language_info": {
   "codemirror_mode": {
    "name": "ipython",
    "version": 3
   },
   "file_extension": ".py",
   "mimetype": "text/x-python",
   "name": "python",
   "nbconvert_exporter": "python",
   "pygments_lexer": "ipython3",
   "version": "3.12.3"
  }
 },
 "nbformat": 4,
 "nbformat_minor": 2
}
